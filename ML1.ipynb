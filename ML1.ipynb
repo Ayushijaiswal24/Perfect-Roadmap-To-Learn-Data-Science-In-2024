{
  "nbformat": 4,
  "nbformat_minor": 0,
  "metadata": {
    "colab": {
      "provenance": [],
      "authorship_tag": "ABX9TyMvjwkFGFE75cXtlRfRQ4uX",
      "include_colab_link": true
    },
    "kernelspec": {
      "name": "python3",
      "display_name": "Python 3"
    },
    "language_info": {
      "name": "python"
    }
  },
  "cells": [
    {
      "cell_type": "markdown",
      "metadata": {
        "id": "view-in-github",
        "colab_type": "text"
      },
      "source": [
        "<a href=\"https://colab.research.google.com/github/Ayushijaiswal24/Perfect-Roadmap-To-Learn-Data-Science-In-2024/blob/main/ML1.ipynb\" target=\"_parent\"><img src=\"https://colab.research.google.com/assets/colab-badge.svg\" alt=\"Open In Colab\"/></a>"
      ]
    },
    {
      "cell_type": "code",
      "execution_count": 1,
      "metadata": {
        "colab": {
          "base_uri": "https://localhost:8080/"
        },
        "id": "iHCfXtZhCzMR",
        "outputId": "116b5bb1-f326-4e8e-b7a4-a265061fad4c"
      },
      "outputs": [
        {
          "output_type": "stream",
          "name": "stdout",
          "text": [
            "Welcoome\n"
          ]
        }
      ],
      "source": [
        "print(\"Welcoome\")"
      ]
    },
    {
      "cell_type": "code",
      "source": [],
      "metadata": {
        "id": "jUd04gn8C314"
      },
      "execution_count": null,
      "outputs": []
    }
  ]
}